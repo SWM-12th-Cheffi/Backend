{
 "cells": [
  {
   "cell_type": "code",
   "execution_count": 1,
   "metadata": {},
   "outputs": [
    {
     "data": {
      "text/plain": [
       "'\\n에그샌드위치\\n짬뽕\\n회\\n미역국\\n닭가슴살 샐러드\\n비프스테이크\\n김치찌개\\n파스타\\n통삼겹구이\\n짜장면\\n두부조림\\n계란말이\\n돈까스덮밥\\n'"
      ]
     },
     "execution_count": 1,
     "metadata": {},
     "output_type": "execute_result"
    }
   ],
   "source": [
    "'''\n",
    "에그샌드위치\n",
    "짬뽕\n",
    "회\n",
    "미역국\n",
    "닭가슴살 샐러드\n",
    "비프스테이크\n",
    "김치찌개\n",
    "파스타\n",
    "통삼겹구이\n",
    "짜장면\n",
    "두부조림\n",
    "계란말이\n",
    "돈까스덮밥\n",
    "'''"
   ]
  },
  {
   "cell_type": "code",
   "execution_count": null,
   "metadata": {},
   "outputs": [],
   "source": []
  }
 ],
 "metadata": {
  "kernelspec": {
   "display_name": "Python 3",
   "language": "python",
   "name": "python3"
  },
  "language_info": {
   "codemirror_mode": {
    "name": "ipython",
    "version": 3
   },
   "file_extension": ".py",
   "mimetype": "text/x-python",
   "name": "python",
   "nbconvert_exporter": "python",
   "pygments_lexer": "ipython3",
   "version": "3.7.4"
  }
 },
 "nbformat": 4,
 "nbformat_minor": 2
}
